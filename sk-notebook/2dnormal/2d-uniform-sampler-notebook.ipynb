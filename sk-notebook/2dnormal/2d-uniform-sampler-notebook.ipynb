{
 "cells": [
  {
   "cell_type": "markdown",
   "metadata": {
    "toc": "true"
   },
   "source": [
    "# Table of Contents\n",
    " <p>"
   ]
  },
  {
   "cell_type": "code",
   "execution_count": 21,
   "metadata": {
    "ExecuteTime": {
     "end_time": "2019-04-26T08:44:13.887634Z",
     "start_time": "2019-04-26T08:44:13.879607Z"
    }
   },
   "outputs": [],
   "source": [
    "%matplotlib inline\n",
    "import matplotlib\n",
    "import matplotlib.pyplot as plt"
   ]
  },
  {
   "cell_type": "code",
   "execution_count": 22,
   "metadata": {
    "ExecuteTime": {
     "end_time": "2019-04-26T08:44:14.037968Z",
     "start_time": "2019-04-26T08:44:14.031368Z"
    }
   },
   "outputs": [],
   "source": [
    "import numpy\n",
    "\n",
    "import pycbc\n",
    "from pycbc import (distributions, transforms, fft,\n",
    "                   opt, psd, scheme, strain, weave)\n",
    "from pycbc.waveform import generator\n",
    "\n",
    "from pycbc import __version__\n",
    "from pycbc import inference\n",
    "from pycbc.inference import (models, burn_in, option_utils)"
   ]
  },
  {
   "cell_type": "code",
   "execution_count": 23,
   "metadata": {
    "ExecuteTime": {
     "end_time": "2019-04-26T08:44:14.196014Z",
     "start_time": "2019-04-26T08:44:14.190489Z"
    }
   },
   "outputs": [],
   "source": [
    "dist=distributions.Uniform(x=(-10,10),y=(-10,10))"
   ]
  },
  {
   "cell_type": "code",
   "execution_count": 24,
   "metadata": {
    "ExecuteTime": {
     "end_time": "2019-04-26T08:44:14.341585Z",
     "start_time": "2019-04-26T08:44:14.333878Z"
    }
   },
   "outputs": [
    {
     "data": {
      "text/plain": [
       "['x', 'y']"
      ]
     },
     "execution_count": 24,
     "metadata": {},
     "output_type": "execute_result"
    }
   ],
   "source": [
    "dist.params"
   ]
  },
  {
   "cell_type": "code",
   "execution_count": 25,
   "metadata": {
    "ExecuteTime": {
     "end_time": "2019-04-26T08:44:14.519233Z",
     "start_time": "2019-04-26T08:44:14.514528Z"
    }
   },
   "outputs": [],
   "source": [
    "jd = distributions.JointDistribution([\"x\",\"y\"], dist)"
   ]
  },
  {
   "cell_type": "code",
   "execution_count": 26,
   "metadata": {
    "ExecuteTime": {
     "end_time": "2019-04-26T08:44:14.707174Z",
     "start_time": "2019-04-26T08:44:14.699381Z"
    }
   },
   "outputs": [
    {
     "data": {
      "text/plain": [
       "<pycbc.distributions.joint.JointDistribution at 0x116c1b250>"
      ]
     },
     "execution_count": 26,
     "metadata": {},
     "output_type": "execute_result"
    }
   ],
   "source": [
    "jd"
   ]
  },
  {
   "cell_type": "code",
   "execution_count": 27,
   "metadata": {
    "ExecuteTime": {
     "end_time": "2019-04-26T08:44:14.874976Z",
     "start_time": "2019-04-26T08:44:14.865141Z"
    }
   },
   "outputs": [],
   "source": [
    "model = models.models[\"test_normal\"]([\"x\",\"y\"], prior=jd)\n",
    "sampler = inference.sampler.emcee.EmceeEnsembleSampler(\n",
    "    model, nwalkers=20, nprocesses=1, use_mpi=False)"
   ]
  },
  {
   "cell_type": "code",
   "execution_count": 28,
   "metadata": {
    "ExecuteTime": {
     "end_time": "2019-04-26T08:44:15.060909Z",
     "start_time": "2019-04-26T08:44:15.048992Z"
    }
   },
   "outputs": [],
   "source": [
    "sampler.setup_output(output_file=\"normal2d.hdf\", force=True)"
   ]
  },
  {
   "cell_type": "code",
   "execution_count": 29,
   "metadata": {
    "ExecuteTime": {
     "end_time": "2019-04-26T08:44:15.243355Z",
     "start_time": "2019-04-26T08:44:15.238493Z"
    }
   },
   "outputs": [],
   "source": [
    "sampler.set_target(niterations=1000)"
   ]
  },
  {
   "cell_type": "code",
   "execution_count": 30,
   "metadata": {
    "ExecuteTime": {
     "end_time": "2019-04-26T08:44:15.617056Z",
     "start_time": "2019-04-26T08:44:15.608493Z"
    }
   },
   "outputs": [],
   "source": [
    "sampler.set_initial_conditions()"
   ]
  },
  {
   "cell_type": "code",
   "execution_count": 31,
   "metadata": {
    "ExecuteTime": {
     "end_time": "2019-04-26T08:44:17.996132Z",
     "start_time": "2019-04-26T08:44:15.782750Z"
    }
   },
   "outputs": [],
   "source": [
    "sampler.run()"
   ]
  },
  {
   "cell_type": "code",
   "execution_count": 32,
   "metadata": {
    "ExecuteTime": {
     "end_time": "2019-04-26T08:44:18.006760Z",
     "start_time": "2019-04-26T08:44:18.001583Z"
    }
   },
   "outputs": [],
   "source": [
    "sampler.finalize()"
   ]
  },
  {
   "cell_type": "code",
   "execution_count": 33,
   "metadata": {
    "ExecuteTime": {
     "end_time": "2019-04-26T08:44:18.015832Z",
     "start_time": "2019-04-26T08:44:18.011244Z"
    }
   },
   "outputs": [],
   "source": [
    "import h5py"
   ]
  },
  {
   "cell_type": "code",
   "execution_count": 34,
   "metadata": {
    "ExecuteTime": {
     "end_time": "2019-04-26T08:44:18.143407Z",
     "start_time": "2019-04-26T08:44:18.020602Z"
    }
   },
   "outputs": [
    {
     "name": "stdout",
     "output_type": "stream",
     "text": [
      "2d-uniform-sampler-notebook.ipynb  normal2d.hdf.checkpoint\r\n",
      "normal2d.hdf.bkup\r\n"
     ]
    }
   ],
   "source": [
    "ls"
   ]
  },
  {
   "cell_type": "code",
   "execution_count": 35,
   "metadata": {
    "ExecuteTime": {
     "end_time": "2019-04-26T08:44:18.821909Z",
     "start_time": "2019-04-26T08:44:18.696901Z"
    }
   },
   "outputs": [
    {
     "name": "stdout",
     "output_type": "stream",
     "text": [
      "total 3416\r\n",
      "-rw-r--r--  1 sebastian  staff   75468 26 Apr 10:43 2d-uniform-sampler-notebook.ipynb\r\n",
      "-rw-r--r--  1 sebastian  staff  833604 26 Apr 10:44 normal2d.hdf.checkpoint\r\n",
      "-rw-r--r--  1 sebastian  staff  833604 26 Apr 10:44 normal2d.hdf.bkup\r\n"
     ]
    }
   ],
   "source": [
    "!ls -lrt"
   ]
  },
  {
   "cell_type": "code",
   "execution_count": 36,
   "metadata": {
    "ExecuteTime": {
     "end_time": "2019-04-26T08:44:20.686731Z",
     "start_time": "2019-04-26T08:44:20.680290Z"
    }
   },
   "outputs": [],
   "source": [
    "f=h5py.File(\"normal2d.hdf.checkpoint\",\"r\")"
   ]
  },
  {
   "cell_type": "code",
   "execution_count": 37,
   "metadata": {
    "ExecuteTime": {
     "end_time": "2019-04-26T08:44:20.840490Z",
     "start_time": "2019-04-26T08:44:20.831300Z"
    }
   },
   "outputs": [
    {
     "data": {
      "text/plain": [
       "[u'sampler_info', u'samples']"
      ]
     },
     "execution_count": 37,
     "metadata": {},
     "output_type": "execute_result"
    }
   ],
   "source": [
    "list(f)"
   ]
  },
  {
   "cell_type": "code",
   "execution_count": 38,
   "metadata": {
    "ExecuteTime": {
     "end_time": "2019-04-26T08:44:21.127140Z",
     "start_time": "2019-04-26T08:44:21.118398Z"
    }
   },
   "outputs": [
    {
     "data": {
      "text/plain": [
       "[u'logjacobian', u'loglikelihood', u'logprior', u'x', u'y']"
      ]
     },
     "execution_count": 38,
     "metadata": {},
     "output_type": "execute_result"
    }
   ],
   "source": [
    "list(f['samples'])"
   ]
  },
  {
   "cell_type": "code",
   "execution_count": 39,
   "metadata": {
    "ExecuteTime": {
     "end_time": "2019-04-26T08:44:21.385938Z",
     "start_time": "2019-04-26T08:44:21.376889Z"
    }
   },
   "outputs": [
    {
     "data": {
      "text/plain": [
       "(20, 1000)"
      ]
     },
     "execution_count": 39,
     "metadata": {},
     "output_type": "execute_result"
    }
   ],
   "source": [
    "f['samples/loglikelihood'].shape"
   ]
  },
  {
   "cell_type": "code",
   "execution_count": 40,
   "metadata": {
    "ExecuteTime": {
     "end_time": "2019-04-26T08:44:23.076560Z",
     "start_time": "2019-04-26T08:44:22.255627Z"
    }
   },
   "outputs": [
    {
     "data": {
      "image/png": "[encoded data removed]",
      "text/plain": [
       "<Figure size 432x288 with 2 Axes>"
      ]
     },
     "metadata": {
      "needs_background": "light"
     },
     "output_type": "display_data"
    }
   ],
   "source": [
    "plt.figure()\n",
    "plt.scatter(f['samples/x'], f['samples/y'], c=f['samples/loglikelihood'])\n",
    "plt.colorbar()\n",
    "plt.show()"
   ]
  },
  {
   "cell_type": "code",
   "execution_count": null,
   "metadata": {},
   "outputs": [],
   "source": []
  }
 ],
 "metadata": {
  "kernelspec": {
   "display_name": "Python 2",
   "language": "python",
   "name": "python2"
  },
  "language_info": {
   "codemirror_mode": {
    "name": "ipython",
    "version": 2
   },
   "file_extension": ".py",
   "mimetype": "text/x-python",
   "name": "python",
   "nbconvert_exporter": "python",
   "pygments_lexer": "ipython2",
   "version": "2.7.15"
  },
  "toc": {
   "nav_menu": {
    "height": "12px",
    "width": "252px"
   },
   "navigate_menu": true,
   "number_sections": true,
   "sideBar": false,
   "threshold": 4,
   "toc_cell": true,
   "toc_section_display": "block",
   "toc_window_display": false
  }
 },
 "nbformat": 4,
 "nbformat_minor": 2
}
